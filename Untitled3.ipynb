{
  "nbformat": 4,
  "nbformat_minor": 0,
  "metadata": {
    "colab": {
      "provenance": [],
      "toc_visible": true,
      "authorship_tag": "ABX9TyMJL/+yXP3j7/+uUmBZv0Ut",
      "include_colab_link": true
    },
    "kernelspec": {
      "name": "python3",
      "display_name": "Python 3"
    },
    "language_info": {
      "name": "python"
    }
  },
  "cells": [
    {
      "cell_type": "markdown",
      "metadata": {
        "id": "view-in-github",
        "colab_type": "text"
      },
      "source": [
        "<a href=\"https://colab.research.google.com/github/Vany2002/Game/blob/main/Untitled3.ipynb\" target=\"_parent\"><img src=\"https://colab.research.google.com/assets/colab-badge.svg\" alt=\"Open In Colab\"/></a>"
      ]
    },
    {
      "cell_type": "code",
      "execution_count": 2,
      "metadata": {
        "colab": {
          "base_uri": "https://localhost:8080/"
        },
        "id": "ii3mVdrXqCwY",
        "outputId": "4c830856-f51e-4022-b9ae-32423f4b9f5c"
      },
      "outputs": [
        {
          "output_type": "stream",
          "name": "stdout",
          "text": [
            "Img's shape:  (833, 1200, 3)\n"
          ]
        }
      ],
      "source": [
        "#@title Текст заголовка по умолчанию\n",
        "from sklearn.cluster import KMeans\n",
        "import cv2\n",
        "import numpy as np\n",
        "import imutils\n",
        "img = cv2.imread('111.jpg') # Вводим исходное изображение\n",
        "print(\"Img's shape: \", img.shape) # Выводим параметры начального изображения"
      ]
    }
  ]
}